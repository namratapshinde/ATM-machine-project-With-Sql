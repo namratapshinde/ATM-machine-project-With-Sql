{
 "cells": [
  {
   "cell_type": "code",
   "execution_count": 11,
   "id": "c1b7ca56-03b0-42b2-ac26-d4df7139b541",
   "metadata": {},
   "outputs": [
    {
     "name": "stdout",
     "output_type": "stream",
     "text": [
      "Connection Succesfully.\n"
     ]
    },
    {
     "name": "stdin",
     "output_type": "stream",
     "text": [
      "Enter the account no: 1234\n",
      "Enter the password : 1234\n"
     ]
    },
    {
     "name": "stdout",
     "output_type": "stream",
     "text": [
      "INVALID ACCOUNT NUMBER OR PASSWORD!\n"
     ]
    }
   ],
   "source": [
    "import mysql.connector\n",
    "conn=mysql.connector.connect(\n",
    "    user=\"root\",\n",
    "    password=\"\",\n",
    "    host=\"localhost\",\n",
    "    database=\"demouser\",\n",
    "    port=\"3306\"\n",
    ")\n",
    "cursor=conn.cursor()\n",
    "print(\"Connection Succesfully.\")\n",
    "# createquery=\"CREATE TABLE Userd(id int,name varchar(255),password varchar(11));\"\n",
    "# v.execute(createquery)\n",
    "# print(\"table Create Succesfully.\")\n",
    "# conn.commit()\n",
    "\n",
    "# createquery=\"CREATE TABLE Transaction(t_id int primary key AUTO_INCREMENT,withdraw int DEFAULT 0,deposit int DEFAULT 0,Balnce int DEFAULT 0,acc_no int, FOREIGN KEY(acc_no) references userd(acc_no))\";\n",
    "# v.execute(createquery)\n",
    "# print(\"table Create Succesfully.\")\n",
    "# conn.commit()\n",
    "\n",
    "def insert_query_for_atm():\n",
    "    Name = input(\"ENTER FULL NAME: \").strip()\n",
    "    Acc_no = int(input(\"ENTER ACCOUNT NUMBER: \"))\n",
    "    password = int(input(\"ENTER PASSWORD: \"))\n",
    "    try:\n",
    "        # Insert into the atm_db table\n",
    "        insert_query = \"\"\"\n",
    "        INSERT INTO userd ( acc_no,name, password)\n",
    "        VALUES (%s, %s, %s)\n",
    "        \"\"\"\n",
    "        cursor.execute(insert_query, ( Acc_no,Name, password))\n",
    "         # Initialize the transaction record for the new user in transaction_db\n",
    "        init_transaction = \"\"\"\n",
    "        INSERT INTO Transaction (acc_no, Balnce)\n",
    "        VALUES (%s, %s)\n",
    "        \"\"\"\n",
    "        cursor.execute(init_transaction, (Acc_no, 0))\n",
    "        conn.commit()\n",
    "        print(\"Account created successfully!\")\n",
    "    except mysql.connector.Error as err:\n",
    "        print(f\"Error: {err}\")\n",
    "\n",
    "\n",
    "    \n",
    "\n",
    "def Balnce():\n",
    "    select_query = \"SELECT Balnce FROM Transaction WHERE acc_no = %s\"\n",
    "    cursor.execute(select_query, (Acc_no,))\n",
    "    balnce = cursor.fetchone()\n",
    "    if balnce:\n",
    "        print(f\"Current Balance: {balnce[0]}\")\n",
    "    else:\n",
    "        print(\"No account found!\")\n",
    "\n",
    "def deposit():\n",
    "    deposit = int(input(\"ENTER AMOUNT TO DEPOSIT: \"))\n",
    "    if deposit <= 0:\n",
    "        print(\"Deposit amount must be positive!\")\n",
    "        return\n",
    "\n",
    "\n",
    "    update_deposit_query = \"\"\"\n",
    "        UPDATE Transaction\n",
    "        SET deposit = deposit + %s, Balnce = Balnce + %s\n",
    "        WHERE acc_no= %s\n",
    "        \"\"\"\n",
    "    cursor.execute(update_deposit_query, (deposit, deposit, Acc_no))\n",
    "    conn.commit()\n",
    "    print(f\"{deposit} deposited successfully!\")\n",
    "    Balnce()\n",
    "\n",
    "def withdraw():\n",
    "    withdraw = int(input(\"ENTER AMOUNT TO WITHDRAW: \"))\n",
    "    if withdraw <= 0:\n",
    "        print(\"Withdrawal amount must be positive!\")\n",
    "        return\n",
    "\n",
    " # Check current balance\n",
    "    select_balance_query = \"SELECT Balnce FROM Transaction WHERE acc_no = %s\"\n",
    "    cursor.execute(select_balance_query, (Acc_no,))\n",
    "    balnce = cursor.fetchone()\n",
    "    if balnce and balnce[0] >= withdraw:\n",
    "\n",
    "        update_withdraw_query = \"\"\"\n",
    "            UPDATE Transaction\n",
    "            SET withdraw = withdraw + %s, Balnce = Balnce - %s\n",
    "            WHERE acc_no= %s\n",
    "            \"\"\"\n",
    "        cursor.execute(update_withdraw_query, (withdraw, withdraw, Acc_no))\n",
    "        conn.commit()\n",
    "        print(f\"{withdraw} withdrawn successfully!\")\n",
    "        Balnce()\n",
    "    else:\n",
    "        print(\"Insufficient balance!\")\n",
    "\n",
    "Acc_no=int(input(\"Enter the account no:\"))\n",
    "password=input(\"Enter the password :\")\n",
    "fetch=\"SELECT acc_no,password FROM userd WHERE acc_no=%s and password=%s;\"\n",
    "cursor.execute(fetch,(Acc_no,password))\n",
    "Login=cursor.fetchone()\n",
    "\n",
    "if Login:\n",
    "    print(\"\\nLOGIN SUCCESSFUL!\")\n",
    "    while True:\n",
    "        print(\"\\nCHOOSE AN OPTION:\\n1. CHECK  Balnce\\n2. deposit\\n3. withdraw\\n4. exit\")\n",
    "        choice = input(\"ENTER YOUR CHOICE: \")\n",
    "        if choice == \"1\":\n",
    "            Balnce()\n",
    "        elif choice == \"2\":\n",
    "            deposit()\n",
    "        elif choice == \"3\":\n",
    "            withdraw()\n",
    "        elif choice == \"4\":\n",
    "            print(\"Thank you for using our service!\")\n",
    "            break\n",
    "        else:\n",
    "            print(\"INVALID OPTION! TRY AGAIN.\")\n",
    "else:\n",
    "    print(\"INVALID ACCOUNT NUMBER OR PASSWORD!\")\n",
    "\n"
   ]
  },
  {
   "cell_type": "code",
   "execution_count": 12,
   "id": "e0ec036e-73a7-4dea-a9c0-9f9756fc790d",
   "metadata": {},
   "outputs": [
    {
     "name": "stdin",
     "output_type": "stream",
     "text": [
      "ENTER FULL NAME:  Aakanksha\n",
      "ENTER ACCOUNT NUMBER:  12345\n",
      "ENTER PASSWORD:  12345\n"
     ]
    },
    {
     "name": "stdout",
     "output_type": "stream",
     "text": [
      "Account created successfully!\n"
     ]
    }
   ],
   "source": [
    "insert_query_for_atm()"
   ]
  },
  {
   "cell_type": "code",
   "execution_count": null,
   "id": "0abcd63f-d1b4-488f-bdca-40abfcf52f5b",
   "metadata": {},
   "outputs": [],
   "source": []
  }
 ],
 "metadata": {
  "kernelspec": {
   "display_name": "Python 3 (ipykernel)",
   "language": "python",
   "name": "python3"
  },
  "language_info": {
   "codemirror_mode": {
    "name": "ipython",
    "version": 3
   },
   "file_extension": ".py",
   "mimetype": "text/x-python",
   "name": "python",
   "nbconvert_exporter": "python",
   "pygments_lexer": "ipython3",
   "version": "3.12.4"
  }
 },
 "nbformat": 4,
 "nbformat_minor": 5
}
